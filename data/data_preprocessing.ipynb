{
 "cells": [
  {
   "cell_type": "code",
   "execution_count": 138,
   "metadata": {
    "collapsed": true,
    "pycharm": {
     "name": "#%%\n"
    }
   },
   "outputs": [],
   "source": [
    "import math\n",
    "\n",
    "import numpy as np\n",
    "import pandas as pd\n",
    "import json"
   ]
  },
  {
   "cell_type": "code",
   "execution_count": 139,
   "outputs": [],
   "source": [
    "sales_df = pd.read_csv('Sales.csv')\n",
    "games_df = pd.read_csv('Games.csv')\n",
    "ratings_df = pd.read_csv('Ratings.csv')"
   ],
   "metadata": {
    "collapsed": false,
    "pycharm": {
     "name": "#%%\n"
    }
   }
  },
  {
   "cell_type": "code",
   "execution_count": 140,
   "outputs": [],
   "source": [
    "def generate_data_samples_processed():\n",
    "    global_dict = {\"samples\": []}\n",
    "    for ind in range(len(sales_df)):\n",
    "        cur_item = {\n",
    "                \"game\": {\n",
    "                    \"name\": games_df['Name'].iloc[ind],\n",
    "                    \"platform\": games_df['Platform'].iloc[ind],\n",
    "                    \"publisher\": games_df['Publisher'].iloc[ind],\n",
    "                    \"developer\": games_df['Developer'].iloc[ind],\n",
    "                    \"genre\": games_df['Genre'].iloc[ind],\n",
    "                    \"year_of_release\": games_df['Year_of_Release'].iloc[ind],\n",
    "                    \"esrb_rating\": games_df['Rating'].iloc[ind],\n",
    "                    \"rating\": {\n",
    "                        \"critic_score\": ratings_df['Critic_Score'].iloc[ind],\n",
    "                        \"critic_count\": ratings_df['Critic_Count'].iloc[ind],\n",
    "                        \"user_score\": ratings_df['User_Score'].iloc[ind],\n",
    "                        \"user_count\": ratings_df['User_Count'].iloc[ind],\n",
    "                    }\n",
    "                },\n",
    "                \"NA_sales\": sales_df['NA_Sales'].iloc[ind],\n",
    "                \"EU_sales\": sales_df['EU_Sales'].iloc[ind],\n",
    "                \"JP_sales\": sales_df['JP_Sales'].iloc[ind],\n",
    "                \"other_sales\": sales_df['Other_Sales'].iloc[ind],\n",
    "                \"global_sales\": sales_df['Global_Sales'].iloc[ind],\n",
    "        }\n",
    "        global_dict['samples'].append(cur_item)\n",
    "\n",
    "    return global_dict"
   ],
   "metadata": {
    "collapsed": false,
    "pycharm": {
     "name": "#%%\n"
    }
   }
  },
  {
   "cell_type": "code",
   "execution_count": 143,
   "outputs": [],
   "source": [
    "global_dict = generate_data_samples_processed()\n",
    "\n",
    "# Cringe....\n",
    "for sale in global_dict['samples']:\n",
    "\n",
    "    for sale_feature in sale:\n",
    "        if isinstance(sale[sale_feature], float) and math.isnan(sale[sale_feature]):\n",
    "            sale[sale_feature] = None\n",
    "\n",
    "        if sale_feature == 'game':\n",
    "            game = sale[sale_feature]\n",
    "            for game_feature in game:\n",
    "                if isinstance(game[game_feature], float) and math.isnan(game[game_feature]):\n",
    "                    game[game_feature] = None\n",
    "\n",
    "                if game_feature == 'rating':\n",
    "                    rating = game[game_feature]\n",
    "                    for rating_feature in rating:\n",
    "                        if isinstance(rating[rating_feature], float) and math.isnan(rating[rating_feature]):\n",
    "                            rating[rating_feature] = None\n",
    "                        if rating_feature == 'user_score' and rating[rating_feature] is not None:\n",
    "                            try:\n",
    "                                rating[rating_feature] = float(rating[rating_feature])\n",
    "                            except ValueError:\n",
    "                                pass"
   ],
   "metadata": {
    "collapsed": false,
    "pycharm": {
     "name": "#%%\n"
    }
   }
  },
  {
   "cell_type": "code",
   "execution_count": 144,
   "outputs": [],
   "source": [
    "with open('data_sample_processed.json', 'w') as outf:\n",
    "    json.dump(global_dict, outf, indent=4)"
   ],
   "metadata": {
    "collapsed": false,
    "pycharm": {
     "name": "#%%\n"
    }
   }
  },
  {
   "cell_type": "code",
   "execution_count": null,
   "outputs": [],
   "source": [],
   "metadata": {
    "collapsed": false,
    "pycharm": {
     "name": "#%%\n"
    }
   }
  }
 ],
 "metadata": {
  "kernelspec": {
   "display_name": "Python 3",
   "language": "python",
   "name": "python3"
  },
  "language_info": {
   "codemirror_mode": {
    "name": "ipython",
    "version": 2
   },
   "file_extension": ".py",
   "mimetype": "text/x-python",
   "name": "python",
   "nbconvert_exporter": "python",
   "pygments_lexer": "ipython2",
   "version": "2.7.6"
  }
 },
 "nbformat": 4,
 "nbformat_minor": 0
}